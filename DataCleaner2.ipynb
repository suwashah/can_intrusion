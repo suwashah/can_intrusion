{
 "cells": [
  {
   "cell_type": "code",
   "execution_count": 2,
   "metadata": {},
   "outputs": [
    {
     "name": "stdout",
     "output_type": "stream",
     "text": [
      "Data loaded and filtered successfully. Cleaned data saved.\n"
     ]
    }
   ],
   "source": [
    "import pandas as pd\n",
    "\n",
    "# Define the path to your CSV file\n",
    "file_path = 'RPM_dataset.csv'\n",
    "\n",
    "# Attempt to read the CSV file, handling rows with different numbers of columns\n",
    "try:\n",
    "    # Load the CSV file, skipping bad lines and warning about them\n",
    "    df = pd.read_csv(file_path, on_bad_lines='skip')\n",
    "\n",
    "    # Filter rows to include only those with exactly 12 columns\n",
    "    df = df[df.apply(lambda x: len(x) == 12, axis=1)]\n",
    "    df = df[df.apply(lambda x: len(x) == 12 and not x.isnull().any(), axis=1)]\n",
    "    # Save the filtered data back to a new CSV file\n",
    "    df.to_csv('Cleaned_RPM_dataset.csv', index=False)\n",
    "    print(\"Data loaded and filtered successfully. Cleaned data saved.\")\n",
    "except pd.errors.ParserError as e:\n",
    "    print(f\"ParserError: {e}\")\n",
    "except Exception as e:\n",
    "    print(f\"An error occurred: {e}\")"
   ]
  }
 ],
 "metadata": {
  "kernelspec": {
   "display_name": "base",
   "language": "python",
   "name": "python3"
  },
  "language_info": {
   "codemirror_mode": {
    "name": "ipython",
    "version": 3
   },
   "file_extension": ".py",
   "mimetype": "text/x-python",
   "name": "python",
   "nbconvert_exporter": "python",
   "pygments_lexer": "ipython3",
   "version": "3.11.7"
  }
 },
 "nbformat": 4,
 "nbformat_minor": 2
}
