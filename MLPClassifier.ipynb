{
 "cells": [
  {
   "cell_type": "code",
   "execution_count": 14,
   "metadata": {},
   "outputs": [],
   "source": [
    "import pandas as pd\n",
    "import numpy as np\n",
    "from sklearn.model_selection import train_test_split\n",
    "from sklearn.preprocessing import LabelEncoder\n",
    "from sklearn.neural_network import MLPClassifier\n",
    "from sklearn.metrics import precision_recall_fscore_support\n",
    "from sklearn.impute import SimpleImputer\n",
    "import matplotlib.pyplot as plt\n",
    "\n",
    "# Load sample data (replace with your actual data loading)\n",
    "data = pd.read_csv(\"Dataset/1000doS_dataset.csv\", header=None)\n",
    "# Assign column names\n",
    "data.columns = ['Timestamp', 'CAN_ID', 'DLC', 'DATA0', 'DATA1',\n",
    "                'DATA2', 'DATA3', 'DATA4', 'DATA5', 'DATA6', 'DATA7', 'Flag']\n",
    "\n",
    "# Convert Flag column to numerical labels using label encoding\n",
    "label_encoder = LabelEncoder()\n",
    "data['Flag'] = label_encoder.fit_transform(data['Flag'])\n",
    "\n",
    "# Check if 'Timestamp' column is already in datetime format\n",
    "# if not pd.api.types.is_datetime64_any_dtype(data['Timestamp']):\n",
    "#     # Convert Timestamp to datetime with milliseconds unit\n",
    "#     data[\"Timestamp\"] = pd.to_datetime(data[\"Timestamp\"], unit=\"ms\")\n",
    "\n",
    "data[\"Timestamp\"] = pd.to_datetime(data[\"Timestamp\"])\n",
    "\n",
    "# Convert CAN ID and DLC to integer\n",
    "data[\"CAN_ID\"] = data[\"CAN_ID\"].apply(lambda x: int(x, 16) if isinstance(x, str) else x)\n",
    "data[\"DLC\"] = data[\"DLC\"].astype(int)\n",
    "\n",
    "\n",
    "\n"
   ]
  },
  {
   "cell_type": "code",
   "execution_count": 15,
   "metadata": {},
   "outputs": [],
   "source": [
    "\n",
    "# Convert DATA fields from hexadecimal strings to integers\n",
    "def hex_to_int(x):\n",
    "    if isinstance(x, str):\n",
    "        try:\n",
    "            return int(x, 16)\n",
    "        except ValueError:\n",
    "            return np.nan\n",
    "    else:\n",
    "        return x\n",
    "\n",
    "\n",
    "# Convert DATA fields from hexadecimal strings to integers\n",
    "for i in range(8):\n",
    "    data[f\"DATA{i}\"] = data[f\"DATA{i}\"].apply(hex_to_int).astype(float)\n",
    "\n",
    "\n",
    "# print(data['DATA2'].unique())  # Print unique values in DATA2 column\n",
    "#data.head(10)\n",
    "\n",
    "# Assuming 'Flag' column represents the target variable\n",
    "X = data.drop('Flag', axis=1)  # Features\n",
    "y = data['Flag']  # Target variable"
   ]
  },
  {
   "cell_type": "code",
   "execution_count": 16,
   "metadata": {},
   "outputs": [],
   "source": [
    "# Splitting the data into training and testing sets\n",
    "X_train, X_test, y_train, y_test = train_test_split(X, y, test_size=0.2, random_state=42)\n",
    "\n",
    "# Drop 'Timestamp' column from input features\n",
    "X_train = X_train.drop('Timestamp', axis=1)\n",
    "X_test = X_test.drop('Timestamp', axis=1)\n",
    "\n",
    "# Impute missing values using SimpleImputer\n",
    "imputer = SimpleImputer(strategy='mean')\n",
    "X_train_imputed = imputer.fit_transform(X_train)\n",
    "X_test_imputed = imputer.transform(X_test)\n",
    "\n",
    "# Initialize MLP Classifier\n",
    "mlp_classifier = MLPClassifier(hidden_layer_sizes=(100, 50), max_iter=500)  # Example parameters\n",
    "\n",
    "# Train the classifier\n",
    "mlp_classifier.fit(X_train_imputed, y_train)\n",
    "\n",
    "# Predict on the test set\n",
    "y_pred = mlp_classifier.predict(X_test_imputed)\n",
    "\n",
    "\n"
   ]
  },
  {
   "cell_type": "code",
   "execution_count": 17,
   "metadata": {},
   "outputs": [
    {
     "name": "stdout",
     "output_type": "stream",
     "text": [
      "Precision: 1.0\n",
      "Recall: 1.0\n",
      "F2 Score: 1.0\n"
     ]
    },
    {
     "data": {
      "image/png": "[encoded data removed]",
      "text/plain": [
       "<Figure size 600x400 with 1 Axes>"
      ]
     },
     "metadata": {},
     "output_type": "display_data"
    }
   ],
   "source": [
    "# Calculate precision, recall, and F1 score\n",
    "precision, recall, f1_score, _ = precision_recall_fscore_support(y_test, y_pred, average='weighted')\n",
    "\n",
    "\n",
    "classes = label_encoder.classes_  # Get class labels\n",
    "\n",
    "# Convert class labels to strings\n",
    "classes = [str(cls) for cls in classes]\n",
    "\n",
    "print(\"Precision:\", precision)\n",
    "print(\"Recall:\", recall)\n",
    "print(\"F2 Score:\", f1_score)\n",
    "\n",
    "plt.figure(figsize=(6, 4))\n",
    "\n",
    "# Precision\n",
    "plt.bar(['Precision'], [precision], color='b', alpha=0.5, label='Precision')\n",
    "\n",
    "# Recall\n",
    "plt.bar(['Recall'], [recall], color='g', alpha=0.5, label='Recall')\n",
    "\n",
    "# F1 Score\n",
    "plt.bar(['F1 Score'], [f1_score], color='r', alpha=0.5, label='F1 Score')\n",
    "\n",
    "plt.xlabel('Metrics')\n",
    "plt.ylabel('Score')\n",
    "plt.title('Precision, Recall, and F1 Score')\n",
    "plt.legend()\n",
    "plt.grid(axis='y')\n",
    "plt.tight_layout()\n",
    "plt.show()"
   ]
  }
 ],
 "metadata": {
  "kernelspec": {
   "display_name": "Python 3",
   "language": "python",
   "name": "python3"
  },
  "language_info": {
   "codemirror_mode": {
    "name": "ipython",
    "version": 3
   },
   "file_extension": ".py",
   "mimetype": "text/x-python",
   "name": "python",
   "nbconvert_exporter": "python",
   "pygments_lexer": "ipython3",
   "version": "3.11.7"
  }
 },
 "nbformat": 4,
 "nbformat_minor": 2
}
