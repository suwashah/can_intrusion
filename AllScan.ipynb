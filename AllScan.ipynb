{
 "cells": [
  {
   "cell_type": "code",
   "execution_count": 26,
   "metadata": {},
   "outputs": [],
   "source": [
    "import pandas as pd\n",
    "import numpy as np\n",
    "from sklearn.model_selection import train_test_split\n",
    "from sklearn.preprocessing import LabelEncoder\n",
    "from sklearn.svm import SVC\n",
    "from sklearn.neural_network import MLPClassifier\n",
    "from sklearn.metrics import precision_score, recall_score, fbeta_score\n",
    "from sklearn.metrics import precision_recall_fscore_support\n",
    "from sklearn.impute import SimpleImputer\n",
    "import matplotlib.pyplot as plt\n",
    "from scipy.interpolate import interp1d\n",
    "\n",
    "# Load sample data (replace with your actual data loading)\n",
    "data = pd.read_csv(\"Dataset/1000gear_dataset.csv\", header=None)\n",
    "# Assign column names\n",
    "data.columns = ['Timestamp', 'CAN_ID', 'DLC', 'DATA0', 'DATA1',\n",
    "                'DATA2', 'DATA3', 'DATA4', 'DATA5', 'DATA6', 'DATA7', 'Flag']\n",
    "\n",
    "# Convert Flag column to numerical labels using label encoding\n",
    "label_encoder = LabelEncoder()\n",
    "data['Flag'] = label_encoder.fit_transform(data['Flag'])\n",
    "\n",
    "data[\"Timestamp\"] = pd.to_datetime(data[\"Timestamp\"])\n",
    "\n",
    "# Convert CAN ID and DLC to integer\n",
    "data[\"CAN_ID\"] = data[\"CAN_ID\"].apply(lambda x: int(x, 16) if isinstance(x, str) else x)\n",
    "data[\"DLC\"] = data[\"DLC\"].astype(int)\n"
   ]
  },
  {
   "cell_type": "code",
   "execution_count": 27,
   "metadata": {},
   "outputs": [],
   "source": [
    "# Convert DATA fields from hexadecimal strings to integers\n",
    "def hex_to_int(x):\n",
    "    if isinstance(x, str):\n",
    "        try:\n",
    "            return int(x, 16)\n",
    "        except ValueError:\n",
    "            return np.nan\n",
    "    else:\n",
    "        return x\n",
    "\n",
    "# Convert DATA fields from hexadecimal strings to integers\n",
    "for i in range(8):\n",
    "    data[f\"DATA{i}\"] = data[f\"DATA{i}\"].apply(hex_to_int).astype(float)\n",
    "\n",
    "# Assuming 'Flag' column represents the target variable\n",
    "X = data.drop('Flag', axis=1)  # Features\n",
    "y = data['Flag']  # Target variable"
   ]
  },
  {
   "cell_type": "code",
   "execution_count": 28,
   "metadata": {},
   "outputs": [
    {
     "name": "stdout",
     "output_type": "stream",
     "text": [
      "SVC Precision: 0.9722877230935641\n",
      "SVC Recall: 0.986046511627907\n",
      "SVC F1 Score: 0.9791187843799357\n",
      "MLP Precision: 0.9722877230935641\n",
      "MLP Recall: 0.986046511627907\n",
      "NLP F1 Score: 0.9791187843799357\n"
     ]
    },
    {
     "name": "stderr",
     "output_type": "stream",
     "text": [
      "c:\\Anaconda\\Lib\\site-packages\\sklearn\\metrics\\_classification.py:1344: UndefinedMetricWarning: Precision and F-score are ill-defined and being set to 0.0 in labels with no predicted samples. Use `zero_division` parameter to control this behavior.\n",
      "  _warn_prf(average, modifier, msg_start, len(result))\n",
      "c:\\Anaconda\\Lib\\site-packages\\sklearn\\metrics\\_classification.py:1344: UndefinedMetricWarning: Precision and F-score are ill-defined and being set to 0.0 in labels with no predicted samples. Use `zero_division` parameter to control this behavior.\n",
      "  _warn_prf(average, modifier, msg_start, len(result))\n"
     ]
    }
   ],
   "source": [
    "\n",
    "\n",
    "# Splitting the data into training and testing sets\n",
    "X_train, X_test, y_train, y_test = train_test_split(X, y, test_size=0.2, random_state=42)\n",
    "\n",
    "# Drop 'Timestamp' column from input features\n",
    "X_train = X_train.drop('Timestamp', axis=1)\n",
    "X_test = X_test.drop('Timestamp', axis=1)\n",
    "\n",
    "# Impute missing values using SimpleImputer\n",
    "imputer = SimpleImputer(strategy='mean')\n",
    "X_train_imputed = imputer.fit_transform(X_train)\n",
    "X_test_imputed = imputer.transform(X_test)\n",
    "\n",
    "def SVC_Scan(x_train,y_train,x_test):\n",
    "    # Initialize SVC with non-linear kernel\n",
    "    svc_classifier = SVC(kernel='rbf')  # rbf stands for Radial Basis Function (non-linear)\n",
    "\n",
    "    # Train the classifier\n",
    "    svc_classifier.fit(x_train, y_train)\n",
    "    # Predict on the test set\n",
    "    \n",
    "    return svc_classifier.predict(x_test)\n",
    "    \n",
    "\n",
    "def MLP_Scan(x_train,y_train,x_test):\n",
    "    # Initialize MLP Classifier\n",
    "    mlp_classifier = MLPClassifier(hidden_layer_sizes=(100, 50), max_iter=500)  # Example parameters\n",
    "\n",
    "    # Train the classifier\n",
    "    mlp_classifier.fit(x_train, y_train)\n",
    "    # Predict on the test set\n",
    "    return mlp_classifier.predict(x_test)\n",
    "\n",
    "\n",
    "#Run SVC ML\n",
    "svc_y_predict= SVC_Scan(X_train_imputed,y_train,X_test_imputed);\n",
    "svc_precision, svc_recall, svc_f1_score, _ = precision_recall_fscore_support(y_test, svc_y_predict, average='weighted')\n",
    "print(\"SVC Precision:\", svc_precision)\n",
    "print(\"SVC Recall:\", svc_recall)\n",
    "print(\"SVC F1 Score:\", svc_f1_score)\n",
    "\n",
    "\n",
    "#Run MLP ML\n",
    "mlp_y_predict=MLP_Scan(X_train_imputed,y_train,X_test_imputed);\n",
    "mlp_precision, mlp_recall, mlp_f1_score, _ = precision_recall_fscore_support(y_test, mlp_y_predict, average='weighted')\n",
    "print(\"MLP Precision:\", mlp_precision)\n",
    "print(\"MLP Recall:\", mlp_recall)\n",
    "print(\"NLP F1 Score:\", mlp_f1_score)"
   ]
  },
  {
   "cell_type": "code",
   "execution_count": 29,
   "metadata": {},
   "outputs": [],
   "source": [
    "\n",
    "# Calculate precision, recall, and F2 score\n",
    "# precision = precision_score(y_test, y_pred, average='micro')\n",
    "# recall = recall_score(y_test, y_pred, average='micro')\n",
    "# f2_score = fbeta_score(y_test, y_pred, beta=2, average='micro')\n",
    "# Convert class labels to strings\n",
    "classes = [str(cls) for cls in label_encoder.classes_]\n",
    "\n",
    "\n"
   ]
  },
  {
   "cell_type": "code",
   "execution_count": 33,
   "metadata": {},
   "outputs": [
    {
     "data": {
      "text/plain": [
       "[[0.9722877230935641, 0.9722877230935641],\n",
       " [0.986046511627907, 0.986046511627907],\n",
       " [0.9791187843799357, 0.9791187843799357]]"
      ]
     },
     "execution_count": 33,
     "metadata": {},
     "output_type": "execute_result"
    }
   ],
   "source": [
    "\n",
    "\n",
    "# Define the models and their corresponding metrics\n",
    "models = ['SVC', 'MLP']\n",
    "precision = [svc_precision, mlp_precision]\n",
    "recall = [svc_recall, mlp_recall]\n",
    "f1_score = [svc_f1_score, mlp_f1_score]\n",
    "# support = [0.985408232, 1, 0.95, 0.92]\n",
    "\n",
    "# Define the metrics to plot\n",
    "metrics = ['Precision', 'Recall', 'F1 Score']\n",
    "values = [precision, recall, f1_score]\n",
    "value.col\n",
    "values"
   ]
  },
  {
   "cell_type": "code",
   "execution_count": 32,
   "metadata": {},
   "outputs": [
    {
     "data": {
      "image/png": "[encoded data removed]",
      "text/plain": [
       "<Figure size 1000x600 with 1 Axes>"
      ]
     },
     "metadata": {},
     "output_type": "display_data"
    }
   ],
   "source": [
    "# Plotting\n",
    "plt.figure(figsize=(10, 6))\n",
    "\n",
    "# Plot bars for each metric and model\n",
    "bar_width = 0.2\n",
    "index = np.arange(len(models))\n",
    "\n",
    "for i, metric in enumerate(metrics):\n",
    "    plt.bar(index + i * bar_width, values[i], bar_width, label=metric)\n",
    "\n",
    "plt.xlabel('Models')\n",
    "plt.ylabel('Score')\n",
    "plt.title('Metrics by Model')\n",
    "plt.xticks(index + bar_width * 1.5, models)\n",
    "plt.legend()\n",
    "plt.grid(axis='y')\n",
    "plt.tight_layout()\n",
    "plt.show()\n"
   ]
  }
 ],
 "metadata": {
  "kernelspec": {
   "display_name": "Python 3",
   "language": "python",
   "name": "python3"
  },
  "language_info": {
   "codemirror_mode": {
    "name": "ipython",
    "version": 3
   },
   "file_extension": ".py",
   "mimetype": "text/x-python",
   "name": "python",
   "nbconvert_exporter": "python",
   "pygments_lexer": "ipython3",
   "version": "3.11.7"
  }
 },
 "nbformat": 4,
 "nbformat_minor": 2
}
