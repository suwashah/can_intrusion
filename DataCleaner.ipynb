{
 "cells": [
  {
   "cell_type": "code",
   "execution_count": 1,
   "metadata": {},
   "outputs": [
    {
     "name": "stdout",
     "output_type": "stream",
     "text": [
      "Data loaded and filtered successfully. Cleaned data saved in Dataset > CleanDataset folder as Cleaned_RPM_dataset.csv\n"
     ]
    }
   ],
   "source": [
    "import pandas as pd\n",
    "import numpy as np\n",
    "import matplotlib.pyplot as plt\n",
    "import Can_Algorithms as alg\n",
    "import logging as log\n",
    "import datetime\n",
    "import os\n",
    "from sklearn.model_selection import train_test_split\n",
    "from sklearn.preprocessing import LabelEncoder\n",
    "from sklearn.metrics import precision_recall_fscore_support\n",
    "from sklearn.impute import SimpleImputer\n",
    "from scipy.interpolate import interp1d\n",
    "\n",
    "class ScanResult:\n",
    "    def __init__(self, model, precision, recall, f1_score, support):\n",
    "        self.model=model\n",
    "        self.precision = precision\n",
    "        self.recall = recall\n",
    "        self.f1_score = f1_score\n",
    "        self.support=support\n",
    "\n",
    "ds_filename=\"RPM_dataset.csv\"# Set filename of your dataset to be cleaned assigning zero and moving Flag to last index\n",
    "# Create a folder for log files if it doesn't exist\n",
    "log_folder = 'logs'\n",
    "os.makedirs(log_folder, exist_ok=True)\n",
    "\n",
    "# Configure logging to save log file in the folder\n",
    "log_file = os.path.join(log_folder, 'Datacleaner_log_file.txt')\n",
    "\n",
    "# Configure logging\n",
    "log.basicConfig(filename=log_file,\n",
    "                level=log.INFO, format='%(asctime)s - %(levelname)s - %(message)s')\n",
    "\n",
    "def CleanData(filePath):\n",
    "    # Read the file line by line\n",
    "    with open(filePath, 'r') as file:\n",
    "        lines = file.readlines()\n",
    "\n",
    "    # Process each line and store the results in a list\n",
    "    processed_lines = []\n",
    "    for line in lines:\n",
    "        # Split the line by comma\n",
    "        parts = line.strip().split(',')\n",
    "        # Parse the timestamp\n",
    "        timestamp = pd.to_datetime(float(parts[0]), unit='s')\n",
    "        num_zeros = 12 - len(parts)\n",
    "        flag_position = len(parts) - 1\n",
    "        # Move the last value to the last index and fill zeros in between\n",
    "        processed_line = parts[:flag_position] + ['00'] * num_zeros + [parts[flag_position]]\n",
    "        # Append the processed line to the list\n",
    "        processed_lines.append(processed_line)\n",
    "\n",
    "    # Convert the list of processed lines into a DataFrame\n",
    "    data = pd.DataFrame(processed_lines)\n",
    "    return data\n",
    "try:\n",
    "    ds = CleanData(\"Dataset/\"+ds_filename)\n",
    "    ds.to_csv(\"Dataset/CleanDataset/Cleaned_\"+ds_filename, sep=',',header=False, index=False, encoding='utf-8')\n",
    "    print(f\"Data loaded and filtered successfully. Cleaned data saved in Dataset > CleanDataset folder as Cleaned_{ds_filename}\")\n",
    "except pd.errors.ParserError as e:\n",
    "    print(f\"ParserError: {e}\")\n",
    "except Exception as e:\n",
    "    print(f\"An error occurred: {e}\")"
   ]
  }
 ],
 "metadata": {
  "kernelspec": {
   "display_name": "base",
   "language": "python",
   "name": "python3"
  },
  "language_info": {
   "codemirror_mode": {
    "name": "ipython",
    "version": 3
   },
   "file_extension": ".py",
   "mimetype": "text/x-python",
   "name": "python",
   "nbconvert_exporter": "python",
   "pygments_lexer": "ipython3",
   "version": "3.11.7"
  }
 },
 "nbformat": 4,
 "nbformat_minor": 2
}
