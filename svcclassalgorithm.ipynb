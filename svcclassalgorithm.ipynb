{
 "cells": [
  {
   "cell_type": "code",
   "execution_count": 1,
   "metadata": {},
   "outputs": [],
   "source": [
    "import pandas as pd\n",
    "import numpy as np\n",
    "from sklearn.model_selection import train_test_split\n",
    "from sklearn.preprocessing import LabelEncoder\n",
    "from sklearn.svm import SVC\n",
    "from sklearn.metrics import precision_score, recall_score, fbeta_score\n",
    "from sklearn.metrics import precision_recall_fscore_support\n",
    "from sklearn.impute import SimpleImputer\n",
    "import matplotlib.pyplot as plt\n",
    "\n",
    "# Load sample data (replace with your actual data loading)\n",
    "data = pd.read_csv(\"Dataset/Dos_dataset.csv\", header=None)\n",
    "# Assign column names\n",
    "data.columns = ['Timestamp', 'CAN_ID', 'DLC', 'DATA0', 'DATA1',\n",
    "                'DATA2', 'DATA3', 'DATA4', 'DATA5', 'DATA6', 'DATA7', 'Flag']\n",
    "\n",
    "# Convert Flag column to numerical labels using label encoding\n",
    "label_encoder = LabelEncoder()\n",
    "data['Flag'] = label_encoder.fit_transform(data['Flag'])\n",
    "\n",
    "# Check if 'Timestamp' column is already in datetime format\n",
    "# if not pd.api.types.is_datetime64_any_dtype(data['Timestamp']):\n",
    "#     # Convert Timestamp to datetime with milliseconds unit\n",
    "#     data[\"Timestamp\"] = pd.to_datetime(data[\"Timestamp\"], unit=\"ms\")\n",
    "\n",
    "data[\"Timestamp\"] = pd.to_datetime(data[\"Timestamp\"])\n",
    "\n",
    "# Convert CAN ID and DLC to integer\n",
    "data[\"CAN_ID\"] = data[\"CAN_ID\"].apply(lambda x: int(x, 16) if isinstance(x, str) else x)\n",
    "data[\"DLC\"] = data[\"DLC\"].astype(int)\n",
    "\n"
   ]
  },
  {
   "cell_type": "code",
   "execution_count": 2,
   "metadata": {},
   "outputs": [],
   "source": [
    "# Convert DATA fields from hexadecimal strings to integers\n",
    "def hex_to_int(x):\n",
    "    if isinstance(x, str):\n",
    "        try:\n",
    "            return int(x, 16)\n",
    "        except ValueError:\n",
    "            return np.nan\n",
    "    else:\n",
    "        return x\n",
    "\n",
    "\n",
    "# Convert DATA fields from hexadecimal strings to integers\n",
    "for i in range(8):\n",
    "    data[f\"DATA{i}\"] = data[f\"DATA{i}\"].apply(hex_to_int).astype(float)\n",
    "\n",
    "# Debug prints\n",
    "# print(data.dtypes)  # Print data types of all columns\n",
    "# # print(data.head())  # Print first few rows of the dataset\n",
    "# print(data['DATA2'].value_counts(dropna=False))\n",
    "# Debug prints\n",
    "# print(data['DATA2'].unique())  # Print unique values in DATA2 column\n",
    "# data.head(10)\n",
    "\n",
    "# Assuming 'Flag' column represents the target variable\n",
    "X = data.drop('Flag', axis=1)  # Features\n",
    "y = data['Flag']  # Target variable"
   ]
  },
  {
   "cell_type": "code",
   "execution_count": 3,
   "metadata": {},
   "outputs": [
    {
     "data": {
      "text/html": [
       "<style>#sk-container-id-1 {color: black;}#sk-container-id-1 pre{padding: 0;}#sk-container-id-1 div.sk-toggleable {background-color: white;}#sk-container-id-1 label.sk-toggleable__label {cursor: pointer;display: block;width: 100%;margin-bottom: 0;padding: 0.3em;box-sizing: border-box;text-align: center;}#sk-container-id-1 label.sk-toggleable__label-arrow:before {content: \"▸\";float: left;margin-right: 0.25em;color: #696969;}#sk-container-id-1 label.sk-toggleable__label-arrow:hover:before {color: black;}#sk-container-id-1 div.sk-estimator:hover label.sk-toggleable__label-arrow:before {color: black;}#sk-container-id-1 div.sk-toggleable__content {max-height: 0;max-width: 0;overflow: hidden;text-align: left;background-color: #f0f8ff;}#sk-container-id-1 div.sk-toggleable__content pre {margin: 0.2em;color: black;border-radius: 0.25em;background-color: #f0f8ff;}#sk-container-id-1 input.sk-toggleable__control:checked~div.sk-toggleable__content {max-height: 200px;max-width: 100%;overflow: auto;}#sk-container-id-1 input.sk-toggleable__control:checked~label.sk-toggleable__label-arrow:before {content: \"▾\";}#sk-container-id-1 div.sk-estimator input.sk-toggleable__control:checked~label.sk-toggleable__label {background-color: #d4ebff;}#sk-container-id-1 div.sk-label input.sk-toggleable__control:checked~label.sk-toggleable__label {background-color: #d4ebff;}#sk-container-id-1 input.sk-hidden--visually {border: 0;clip: rect(1px 1px 1px 1px);clip: rect(1px, 1px, 1px, 1px);height: 1px;margin: -1px;overflow: hidden;padding: 0;position: absolute;width: 1px;}#sk-container-id-1 div.sk-estimator {font-family: monospace;background-color: #f0f8ff;border: 1px dotted black;border-radius: 0.25em;box-sizing: border-box;margin-bottom: 0.5em;}#sk-container-id-1 div.sk-estimator:hover {background-color: #d4ebff;}#sk-container-id-1 div.sk-parallel-item::after {content: \"\";width: 100%;border-bottom: 1px solid gray;flex-grow: 1;}#sk-container-id-1 div.sk-label:hover label.sk-toggleable__label {background-color: #d4ebff;}#sk-container-id-1 div.sk-serial::before {content: \"\";position: absolute;border-left: 1px solid gray;box-sizing: border-box;top: 0;bottom: 0;left: 50%;z-index: 0;}#sk-container-id-1 div.sk-serial {display: flex;flex-direction: column;align-items: center;background-color: white;padding-right: 0.2em;padding-left: 0.2em;position: relative;}#sk-container-id-1 div.sk-item {position: relative;z-index: 1;}#sk-container-id-1 div.sk-parallel {display: flex;align-items: stretch;justify-content: center;background-color: white;position: relative;}#sk-container-id-1 div.sk-item::before, #sk-container-id-1 div.sk-parallel-item::before {content: \"\";position: absolute;border-left: 1px solid gray;box-sizing: border-box;top: 0;bottom: 0;left: 50%;z-index: -1;}#sk-container-id-1 div.sk-parallel-item {display: flex;flex-direction: column;z-index: 1;position: relative;background-color: white;}#sk-container-id-1 div.sk-parallel-item:first-child::after {align-self: flex-end;width: 50%;}#sk-container-id-1 div.sk-parallel-item:last-child::after {align-self: flex-start;width: 50%;}#sk-container-id-1 div.sk-parallel-item:only-child::after {width: 0;}#sk-container-id-1 div.sk-dashed-wrapped {border: 1px dashed gray;margin: 0 0.4em 0.5em 0.4em;box-sizing: border-box;padding-bottom: 0.4em;background-color: white;}#sk-container-id-1 div.sk-label label {font-family: monospace;font-weight: bold;display: inline-block;line-height: 1.2em;}#sk-container-id-1 div.sk-label-container {text-align: center;}#sk-container-id-1 div.sk-container {/* jupyter's `normalize.less` sets `[hidden] { display: none; }` but bootstrap.min.css set `[hidden] { display: none !important; }` so we also need the `!important` here to be able to override the default hidden behavior on the sphinx rendered scikit-learn.org. See: https://github.com/scikit-learn/scikit-learn/issues/21755 */display: inline-block !important;position: relative;}#sk-container-id-1 div.sk-text-repr-fallback {display: none;}</style><div id=\"sk-container-id-1\" class=\"sk-top-container\"><div class=\"sk-text-repr-fallback\"><pre>SVC()</pre><b>In a Jupyter environment, please rerun this cell to show the HTML representation or trust the notebook. <br />On GitHub, the HTML representation is unable to render, please try loading this page with nbviewer.org.</b></div><div class=\"sk-container\" hidden><div class=\"sk-item\"><div class=\"sk-estimator sk-toggleable\"><input class=\"sk-toggleable__control sk-hidden--visually\" id=\"sk-estimator-id-1\" type=\"checkbox\" checked><label for=\"sk-estimator-id-1\" class=\"sk-toggleable__label sk-toggleable__label-arrow\">SVC</label><div class=\"sk-toggleable__content\"><pre>SVC()</pre></div></div></div></div></div>"
      ],
      "text/plain": [
       "SVC()"
      ]
     },
     "execution_count": 3,
     "metadata": {},
     "output_type": "execute_result"
    }
   ],
   "source": [
    "\n",
    "\n",
    "# Splitting the data into training and testing sets\n",
    "X_train, X_test, y_train, y_test = train_test_split(X, y, test_size=0.2, random_state=42)\n",
    "\n",
    "# Drop 'Timestamp' column from input features\n",
    "X_train = X_train.drop('Timestamp', axis=1)\n",
    "X_test = X_test.drop('Timestamp', axis=1)\n",
    "\n",
    "# Impute missing values using SimpleImputer\n",
    "imputer = SimpleImputer(strategy='mean')\n",
    "X_train_imputed = imputer.fit_transform(X_train)\n",
    "X_test_imputed = imputer.transform(X_test)\n",
    "\n",
    "\n",
    "\n",
    "# Initialize SVC with non-linear kernel\n",
    "svc_classifier = SVC(kernel='rbf')  # rbf stands for Radial Basis Function (non-linear)\n",
    "\n",
    "# Train the classifier\n",
    "svc_classifier.fit(X_train_imputed, y_train)\n"
   ]
  },
  {
   "cell_type": "code",
   "execution_count": 4,
   "metadata": {},
   "outputs": [],
   "source": [
    "# Predict on the test set\n",
    "y_pred = svc_classifier.predict(X_test_imputed)"
   ]
  },
  {
   "cell_type": "code",
   "execution_count": null,
   "metadata": {},
   "outputs": [],
   "source": []
  },
  {
   "cell_type": "code",
   "execution_count": 5,
   "metadata": {},
   "outputs": [
    {
     "name": "stdout",
     "output_type": "stream",
     "text": [
      "Precision: 0.9998541885916287\n",
      "Recall: 0.9998540554180221\n",
      "F1 Score: 0.9998540823244035\n"
     ]
    }
   ],
   "source": [
    "precision, recall, f1_score, _ = precision_recall_fscore_support(y_test, y_pred, average='weighted')\n",
    "# Calculate precision, recall, and F2 score\n",
    "# precision = precision_score(y_test, y_pred, average='micro')\n",
    "# recall = recall_score(y_test, y_pred, average='micro')\n",
    "# f2_score = fbeta_score(y_test, y_pred, beta=2, average='micro')\n",
    "# Convert class labels to strings\n",
    "classes = [str(cls) for cls in label_encoder.classes_]\n",
    "\n",
    "print(\"Precision:\", precision)\n",
    "print(\"Recall:\", recall)\n",
    "print(\"F1 Score:\", f1_score)\n"
   ]
  },
  {
   "cell_type": "code",
   "execution_count": 6,
   "metadata": {},
   "outputs": [
    {
     "data": {
      "image/png": "[encoded data removed]",
      "text/plain": [
       "<Figure size 600x400 with 1 Axes>"
      ]
     },
     "metadata": {},
     "output_type": "display_data"
    }
   ],
   "source": [
    "\n",
    "plt.figure(figsize=(6, 4))\n",
    "\n",
    "# Precision\n",
    "plt.bar(['Precision'], [precision], color='b', alpha=0.5, label='Precision')\n",
    "\n",
    "# Recall\n",
    "plt.bar(['Recall'], [recall], color='g', alpha=0.5, label='Recall')\n",
    "\n",
    "# F1 Score\n",
    "plt.bar(['F1 Score'], [f1_score], color='r', alpha=0.5, label='F1 Score')\n",
    "\n",
    "plt.xlabel('Metrics')\n",
    "plt.ylabel('Score')\n",
    "plt.title('Precision, Recall, and F1 Score')\n",
    "plt.legend()\n",
    "plt.grid(axis='y')\n",
    "plt.tight_layout()\n",
    "plt.show()"
   ]
  },
  {
   "cell_type": "code",
   "execution_count": 3,
   "metadata": {},
   "outputs": [
    {
     "ename": "NameError",
     "evalue": "name 'np' is not defined",
     "output_type": "error",
     "traceback": [
      "\u001b[1;31m---------------------------------------------------------------------------\u001b[0m",
      "\u001b[1;31mNameError\u001b[0m                                 Traceback (most recent call last)",
      "Cell \u001b[1;32mIn[3], line 35\u001b[0m\n\u001b[0;32m     14\u001b[0m \u001b[38;5;66;03m# # Plotting\u001b[39;00m\n\u001b[0;32m     15\u001b[0m \u001b[38;5;66;03m# plt.figure(figsize=(10, 6))\u001b[39;00m\n\u001b[0;32m     16\u001b[0m \n\u001b[1;32m   (...)\u001b[0m\n\u001b[0;32m     32\u001b[0m \n\u001b[0;32m     33\u001b[0m \u001b[38;5;66;03m# Plot curved lines for each metric and model\u001b[39;00m\n\u001b[0;32m     34\u001b[0m \u001b[38;5;28;01mfor\u001b[39;00m i, metric \u001b[38;5;129;01min\u001b[39;00m \u001b[38;5;28menumerate\u001b[39m(metrics):\n\u001b[1;32m---> 35\u001b[0m     f \u001b[38;5;241m=\u001b[39m interp1d(\u001b[43mnp\u001b[49m\u001b[38;5;241m.\u001b[39marange(\u001b[38;5;28mlen\u001b[39m(models)), values[i], kind\u001b[38;5;241m=\u001b[39m\u001b[38;5;124m'\u001b[39m\u001b[38;5;124mcubic\u001b[39m\u001b[38;5;124m'\u001b[39m)\n\u001b[0;32m     36\u001b[0m     x_new \u001b[38;5;241m=\u001b[39m np\u001b[38;5;241m.\u001b[39mlinspace(\u001b[38;5;241m0\u001b[39m, \u001b[38;5;28mlen\u001b[39m(models) \u001b[38;5;241m-\u001b[39m \u001b[38;5;241m1\u001b[39m, \u001b[38;5;241m100\u001b[39m)\n\u001b[0;32m     37\u001b[0m     y_new \u001b[38;5;241m=\u001b[39m f(x_new)\n",
      "\u001b[1;31mNameError\u001b[0m: name 'np' is not defined"
     ]
    }
   ],
   "source": [
    "from scipy.interpolate import interp1d\n",
    "\n",
    "# Define the models and their corresponding metrics\n",
    "models = ['SVC', 'SGD', 'CNN', 'MLP']\n",
    "precision = [0.999854189, 1, 0.97, 0.8]\n",
    "recall = [0.999854055, 1, 0.96, 0.823]\n",
    "f1_score = [0.999854082, 1, 0.97, 0.81]\n",
    "support = [0.985408232, 1, 0.95, 0.92]\n",
    "\n",
    "# Define the metrics to plot\n",
    "metrics = ['Precision', 'Recall', 'F1 Score', 'Support']\n",
    "values = [precision, recall, f1_score, support]\n",
    "\n",
    "# # Plotting\n",
    "# plt.figure(figsize=(10, 6))\n",
    "\n",
    "# # Plot bars for each metric and model\n",
    "# bar_width = 0.2\n",
    "# index = np.arange(len(models))\n",
    "\n",
    "# for i, metric in enumerate(metrics):\n",
    "#     plt.bar(index + i * bar_width, values[i], bar_width, label=metric)\n",
    "\n",
    "# plt.xlabel('Models')\n",
    "# plt.ylabel('Score')\n",
    "# plt.title('Metrics by Model')\n",
    "# plt.xticks(index + bar_width * 1.5, models)\n",
    "# plt.legend()\n",
    "# plt.grid(axis='y')\n",
    "# plt.tight_layout()\n",
    "# plt.show()\n",
    "\n",
    "# Plot curved lines for each metric and model\n",
    "for i, metric in enumerate(metrics):\n",
    "    f = interp1d(np.arange(len(models)), values[i], kind='cubic')\n",
    "    x_new = np.linspace(0, len(models) - 1, 100)\n",
    "    y_new = f(x_new)\n",
    "    plt.plot(x_new, y_new, label=metric)\n",
    "\n",
    "plt.xlabel('Models')\n",
    "plt.ylabel('Score')\n",
    "plt.title('Metrics by Model')\n",
    "plt.xticks(np.arange(len(models)), models)\n",
    "plt.legend()\n",
    "plt.grid(True)\n",
    "plt.tight_layout()\n",
    "plt.show()"
   ]
  }
 ],
 "metadata": {
  "kernelspec": {
   "display_name": "Python 3",
   "language": "python",
   "name": "python3"
  },
  "language_info": {
   "codemirror_mode": {
    "name": "ipython",
    "version": 3
   },
   "file_extension": ".py",
   "mimetype": "text/x-python",
   "name": "python",
   "nbconvert_exporter": "python",
   "pygments_lexer": "ipython3",
   "version": "3.8.10"
  }
 },
 "nbformat": 4,
 "nbformat_minor": 2
}
